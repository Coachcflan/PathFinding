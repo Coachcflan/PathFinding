{
 "cells": [
  {
   "cell_type": "markdown",
   "id": "8e98ecf3",
   "metadata": {},
   "source": [
    "# Search Area\n",
    "- The search area should be a simple sqauare grid (2-dimentional array)\n",
    "- Each element in the 2-dimentional array represents a square/node \n",
    "- There is a start node and an end node (square)\n",
    "- Each node is either considered walkable or not walkable"
   ]
  },
  {
   "cell_type": "code",
   "execution_count": 5,
   "id": "1f65c8d5",
   "metadata": {},
   "outputs": [],
   "source": [
    "# Need to create a node class\n",
    "'''\n",
    "Each node contains the following attributes:\n",
    "- a position on the board. Tuple like (1,1) i.e. second row \n",
    "second column element.\n",
    "- parent node position\n",
    "- type of node (walkable or unwalkable) boolean\n",
    "- G-Cost\n",
    "- H-Cost\n",
    "- F-Score\n",
    "'''\n",
    "class Node:\n",
    "    '''Node class for algo'''\n",
    "    \n",
    "    def __init__(self, x, y, walkable):\n",
    "        self.x = x\n",
    "        self.y = y\n",
    "        self.walkable = walkable\n",
    "        self.position = None\n",
    "        self.parent = None\n",
    "        self.g = 0 \n",
    "        self.h = 0 \n",
    "        self.f = 0\n",
    "      \n",
    "    '''Creating methods to populate node data and attributes'''\n",
    "    \n",
    "    def set_position(self): # sets the nodes position (identity) \n",
    "        self.position = (self.y, self.x)\n",
    "        \n",
    "    def g_cost(self): # calculates g_cost and sets it to node g attribute\n",
    "        return None\n",
    "    \n",
    "    def h_cost(self): # calculates h_cost and sets it to node h attribute\n",
    "        return None\n",
    "    \n",
    "    def f_score(self): # calculates f_score and sets it to node f attribute\n",
    "        self.f = self.g + self.h\n",
    "        \n",
    "        \n"
   ]
  },
  {
   "cell_type": "code",
   "execution_count": 7,
   "id": "d1355fc0",
   "metadata": {},
   "outputs": [],
   "source": [
    "# The skeleton will be used to display the path traveled\n",
    "# this will also be used to develope a map of nodes \n",
    "# zeros mean \"walkable\" nodes whereas ones mean \"not walkable\"\n",
    "\n",
    "skeleton = [\n",
    "    [0,0,0],\n",
    "    [0,1,0],\n",
    "    [0,1,0],\n",
    "    [0,0,0]\n",
    "]\n",
    "\n",
    "\n",
    "def node_map(skeleton):\n",
    "    '''\n",
    "    This function will create a map of nodes based off\n",
    "    of a two dimentional array of ones and zeros.\n",
    "    '''\n",
    "    node_map = [[0 for _ in range(len(skeleton[0]))] for _ in range(len(skeleton))]\n",
    "    \n",
    "    for y in range(len(skeleton)):\n",
    "        for x in range(len(skeleton[0])):\n",
    "            skeleton_item = skeleton[y][x]\n",
    "            if skeleton_item == 1:\n",
    "                node = Node(x, y, False)\n",
    "                node.set_position()\n",
    "                node_map[y][x] = node\n",
    "            else:\n",
    "                node = Node(x, y, True)\n",
    "                node.set_position()\n",
    "                node_map[y][x] = node\n",
    "    \n",
    "    return node_map\n",
    "\n",
    "\n",
    "node_map = node_map(skeleton)\n"
   ]
  },
  {
   "cell_type": "markdown",
   "id": "c72577b9",
   "metadata": {},
   "source": [
    "# Starting The Search \n",
    "- What we need to to is find the most efficient path from the start node to the end node\n",
    "- Put simply we start at the start node check the adjeacent squares then keep searching outward from the start node until we find the end node\n",
    "## Starting The Search\n",
    "    1.) we need an open list and closed list\n",
    "    - Open list will contain the all of the nodes that need to be checked out\n",
    "    - Closed list contains all the squares that have already been checked out and need no further examination\n",
    "    2.) Add the start node to the open list\n",
    "    \n",
    "    3.) Find all the squares surrounding the start node (adjacent squares)\n",
    "    - Add these adjacent nodes to the open list for further examination.\n",
    "    - For each adjacent square/node make the start node their \"Parent Node\".\n",
    "    4.) Finally drop the start node from the open list and add it to the closed list.\n",
    "   "
   ]
  },
  {
   "cell_type": "code",
   "execution_count": 8,
   "id": "f8f65ed7",
   "metadata": {},
   "outputs": [],
   "source": [
    "def PathFinder(node_map, skeleton):\n",
    "    \"Function for finding the optimal path\"\n",
    "    # initialize a start node and eand node\n",
    "    start_node = node_map[1][1] # start_node position\n",
    "    end_node = node_map[-1][-1] # end_node position\n",
    "    \n",
    "    # initialize an open_list and closed list\n",
    "    open_list = []\n",
    "    closed_list = []\n",
    "    \n",
    "    open_list.append(start_node)\n",
    "    current_node = open_list[0]\n",
    "    \n",
    "    while end_node not in closed_list:\n",
    "        \n",
    "        \n",
    "    \n",
    "    return start_node\n",
    "    \n",
    "    "
   ]
  },
  {
   "cell_type": "code",
   "execution_count": 10,
   "id": "b1023eac",
   "metadata": {},
   "outputs": [
    {
     "data": {
      "text/plain": [
       "(1, 1)"
      ]
     },
     "execution_count": 10,
     "metadata": {},
     "output_type": "execute_result"
    }
   ],
   "source": [
    "PathFinder(node_map, skeleton).position"
   ]
  },
  {
   "cell_type": "markdown",
   "id": "c502fbaf",
   "metadata": {},
   "source": [
    "# Path Scoring \n",
    "- The next procedure is to determine which node we should travel to after the start node.\n",
    "- The possible nodes that we can travel to are nodes that are \"walkable\" and dont act as walls that are in the open list.\n",
    "## Path Scoring\n",
    "- The node we choose to travel to is the one with the smallest F Score\n",
    "    \n",
    "    1.) F-Score = G-Cost + Hueristic (F = G + H)\n",
    "    \n",
    "    - G-Cost is the cost of moving from the start node to any other square/node on the board.\n",
    "        - Cost of 10 to move horozontally or vertically one node, and a cost of 14 to move diagonally to a node.\n",
    "    - To calculate g-cost of a node add 10 or 14 to the parent nodes g-cost.\n",
    "    \n",
    "    \n",
    "    - H-Cost us the estimated movement cost from the current square to the final destination (end node) also it is important to note that this is an estimation.\n",
    "        - Calculating H by the Manhattan method. The number of horzontal and ventical nodes from a specific node to an end node multiplied by 10.\n",
    "    \n",
    "    \n",
    "    - F-score is calculated by adding the previous costs together\n",
    "    \n",
    "\"Our path is generated by repeatedly going through our open list and choosing the square with the lowest F score.\"\n",
    "  "
   ]
  },
  {
   "cell_type": "markdown",
   "id": "aeb977fe",
   "metadata": {},
   "source": [
    "#  Continuing the search \n",
    "    1.) Choose the node with lowest F-Score in the open list\n",
    "       - Drop this specific node from the open list and add it to the closed list.\n",
    "       \n",
    "       \n",
    "    2.) Now identify all of the adjacent squares and add them to the open list if they are not already in the open list, not in the closed list, and not unwalkable.\n",
    "    - For the newly added squares to the open list make the current square the parent square of these nodes.\n",
    "    \n",
    "    \n",
    "    3.) If an adjacent node has already been on the open list...\n",
    "    - check to see if the G score for that square is lower if we use the current square to get there. If not, don’t do anything.\n",
    "    - If the G-Cost of the new path is lower make the current node the parent node for that node\n",
    "    \n",
    "    \n",
    "    4.) Sort open list from lowest to highest f-scores (and choose lowest f-score. \n",
    "    \n",
    "    \n",
    "Keep repeating this above process until we have found the end node and add it to our closed list\n",
    "\n"
   ]
  },
  {
   "cell_type": "code",
   "execution_count": null,
   "id": "95c112bb",
   "metadata": {},
   "outputs": [],
   "source": []
  },
  {
   "cell_type": "markdown",
   "id": "9609102a",
   "metadata": {},
   "source": []
  },
  {
   "cell_type": "markdown",
   "id": "11b770af",
   "metadata": {},
   "source": []
  },
  {
   "cell_type": "markdown",
   "id": "b149b1f0",
   "metadata": {},
   "source": []
  },
  {
   "cell_type": "markdown",
   "id": "8bc5feeb",
   "metadata": {},
   "source": []
  },
  {
   "cell_type": "markdown",
   "id": "bef819c6",
   "metadata": {},
   "source": []
  },
  {
   "cell_type": "markdown",
   "id": "fc74a0c4",
   "metadata": {},
   "source": []
  },
  {
   "cell_type": "markdown",
   "id": "fdb0b7f0",
   "metadata": {},
   "source": []
  }
 ],
 "metadata": {
  "kernelspec": {
   "display_name": "Python 3 (ipykernel)",
   "language": "python",
   "name": "python3"
  },
  "language_info": {
   "codemirror_mode": {
    "name": "ipython",
    "version": 3
   },
   "file_extension": ".py",
   "mimetype": "text/x-python",
   "name": "python",
   "nbconvert_exporter": "python",
   "pygments_lexer": "ipython3",
   "version": "3.9.13"
  }
 },
 "nbformat": 4,
 "nbformat_minor": 5
}
